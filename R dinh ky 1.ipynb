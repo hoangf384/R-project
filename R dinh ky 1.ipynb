{
 "cells": [
  {
   "cell_type": "markdown",
   "metadata": {},
   "source": [
    "# Bài tập định kỳ 1"
   ]
  },
  {
   "cell_type": "markdown",
   "metadata": {},
   "source": [
    "#### Đọc kỹ các thông tin dưới đây trước khi làm bài:\n",
    "- Đổi tên tập tin **STT_HoVaTen_MSSV_DK1.ipynb** với STT là số thứ tự, HoVaTen là họ và tên, MSSV là mã số sinh viên của bạn,  \n",
    "- Tải tập tin bài làm **STT_HoVaTen_MSSV_DK1.ipynb** lên thư mục  **abc** để GV chấm điểm.\n",
    "- Đến deadline, HV không gửi bài sẽ không có điểm.\n",
    "- HV sẽ bị trừ điểm nếu bài làm giống nhau."
   ]
  },
  {
   "cell_type": "markdown",
   "metadata": {
    "id": "VPbVlUR5qmux"
   },
   "source": [
    "### Viết chương trình cho phép người dùng:\n",
    "- 1/ Nhập vào một số n với điều kiện sau: 10<=n<=20. Nếu số người dùng nhập không thỏa điều kiện thì thông báo cho người dùng biết và yêu cầu nhập lại. Nêu thỏa điều kiện thì qua 2.\n",
    "- 2/ Tạo một dãy số v1 có n số mà mỗi số là một số ngẫu nhiên từ 1 đến 10. Ví dụ: v1: 5, 5, 5, 9, 9, 8, 5, 9, 9, 10, 7, 7\n",
    "- 3/ Viết một function tạo dãy số mới v2 từ dãy số v1 nói trên theo điều kiện sau: phần tử đầu tiên và cuối cùng của v2 bằng v1, các phần tử khác thì v2[i] = v1[i] + v1[i-1] + v1[i+1] nếu cả v1[i-1] và v1[i+1] cùng chẵn hoặc cùng lẻ, ngược lại v2[i] = v1[i]. Ví dụ: v2: 5, 15, 19, 23, 9, 22, 5, 23, 9, 26, 7, 7\n",
    "- 4/ Gọi function vừa viết và in kết quả v2.\n",
    "- 5/ Viết function Cho biết trong một dãy số có số chính phương nào hay không?\n",
    "- 6/ Gọi function vừa viết với input là v2 và in kết quả."
   ]
  },
  {
   "cell_type": "code",
   "execution_count": 1,
   "metadata": {
    "id": "7MtFDCMKtWEl"
   },
   "outputs": [
    {
     "name": "stdin",
     "output_type": "stream",
     "text": [
      " 20\n"
     ]
    },
    {
     "name": "stdout",
     "output_type": "stream",
     "text": [
      "[1] \"day so v2 la\"\n",
      " [1] 10 13  6  3 13  9  8  6  9 13  1 12 21 10 20  6 17 18 19  6\n"
     ]
    },
    {
     "data": {
      "text/html": [
       "'Day so co so chinh phuong.'"
      ],
      "text/latex": [
       "'Day so co so chinh phuong.'"
      ],
      "text/markdown": [
       "'Day so co so chinh phuong.'"
      ],
      "text/plain": [
       "[1] \"Day so co so chinh phuong.\""
      ]
     },
     "metadata": {},
     "output_type": "display_data"
    }
   ],
   "source": [
    "\n",
    "#1\n",
    "n = as.numeric(readline())\n",
    "while( n < 10 | n > 20){\n",
    "    n = as.numeric(readline('sai, vui long nhap lai: '))\n",
    "}\n",
    "\n",
    "#2 so luong phan tu ngau nhien (1, 10)\n",
    "v1 = sample(1:10, n, replace = TRUE)\n",
    "\n",
    "v2 = numeric(n) # tao vt rong\n",
    "\n",
    "#3\n",
    "my_func = function(){\n",
    "    for (i in 1:n){\n",
    "        if(i == 1 | i == n){\n",
    "            v2[i] = v1[i]\n",
    "        }\n",
    "        else if ((v1[i + 1] + v1[i - 1]) %% 2 == 0){ # tong 2 so le hoac so chan ra so chan\n",
    "            v2[i] = v1[i] + v1[i-1] + v1[i+1]\n",
    "        }\n",
    "        else {\n",
    "            v2[i] = v1[i]\n",
    "        }\n",
    "    }\n",
    "    return(v2)\n",
    "}\n",
    "\n",
    "#4\n",
    "print('day so v2 la')\n",
    "v2 = my_func()\n",
    "print(v2)\n",
    "\n",
    "#5\n",
    "sochinhphuong = function(x){\n",
    "    for (i in 1:n){\n",
    "        if ( x[i] != 1 & as.integer(sqrt(x[i]))^2 == x[i]){ #dk la khac 1 va can(x) * can(x) == x \n",
    "                return('Day so co so chinh phuong.')\n",
    "        }\n",
    "    }\n",
    "    return('Day so co so chinh phuong.')\n",
    "}\n",
    "\n",
    "#6\n",
    "sochinhphuong(v2)\n"
   ]
  }
 ],
 "metadata": {
  "colab": {
   "authorship_tag": "ABX9TyOMFy0cLJBingldwjUDnUt4",
   "provenance": []
  },
  "kernelspec": {
   "display_name": "Python 3 (ipykernel)",
   "language": "python",
   "name": "python3"
  },
  "language_info": {
   "codemirror_mode": {
    "name": "ipython",
    "version": 3
   },
   "file_extension": ".py",
   "mimetype": "text/x-python",
   "name": "python",
   "nbconvert_exporter": "python",
   "pygments_lexer": "ipython3",
   "version": "3.12.5"
  }
 },
 "nbformat": 4,
 "nbformat_minor": 4
}
